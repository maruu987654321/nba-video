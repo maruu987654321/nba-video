{
 "cells": [
  {
   "cell_type": "code",
   "execution_count": 9,
   "metadata": {},
   "outputs": [],
   "source": [
    "from selenium import webdriver\n",
    "from selenium.webdriver.common.by import By\n",
    "from selenium.webdriver.common.keys import Keys\n",
    "import time\n",
    "from selenium.webdriver.common.action_chains import ActionChains\n",
    "from bs4 import BeautifulSoup  \n",
    "from selenium.common.exceptions import NoSuchElementException        \n",
    "from selenium.webdriver.common.by import By\n",
    "from selenium.webdriver.support import expected_conditions as EC\n",
    "from selenium.webdriver.support.ui import WebDriverWait as wait\n",
    "from selenium.common.exceptions import WebDriverException\n",
    "import requests\n",
    "import io\n",
    "import bs4\n",
    "from selenium.common.exceptions import ElementNotVisibleException\n",
    "from selenium.webdriver.chrome.options import Options\n",
    "from selenium.webdriver.common import action_chains\n",
    "\n",
    "def login():\n",
    "    driver = webdriver.Chrome(\"webdriver/chromedriver\")\n",
    "    driver.get('https://watch.nba.com')\n",
    "    action = action_chains.ActionChains(driver)\n",
    "    session_id = driver.session_id\n",
    "    ext_button = driver.find_element_by_class_name('extend-account')\n",
    "    ext_button.click()\n",
    "    bitton_login = driver.find_element_by_id('loginButton')\n",
    "    bitton_login.click()\n",
    "    time.sleep(3)\n",
    "    driver.switch_to.frame(driver.find_element_by_id(\"signInFrame\"))\n",
    "    driver.find_element_by_xpath(\"//input[@id='iptvauth_field_username']\").send_keys(\"alykhansomani@gmail.com\")\n",
    "    pass_and_enter = driver.find_element_by_xpath(\"//input[@type='password']\")\n",
    "    pass_and_enter.send_keys(\"mamlakahat32\")\n",
    "    driver.find_element_by_class_name('nba-signin-btn').click()\n",
    "if __name__ == '__main__':\n",
    "    login()"
   ]
  },
  {
   "cell_type": "code",
   "execution_count": null,
   "metadata": {},
   "outputs": [],
   "source": []
  }
 ],
 "metadata": {
  "kernelspec": {
   "display_name": "Python 3",
   "language": "python",
   "name": "python3"
  },
  "language_info": {
   "codemirror_mode": {
    "name": "ipython",
    "version": 3
   },
   "file_extension": ".py",
   "mimetype": "text/x-python",
   "name": "python",
   "nbconvert_exporter": "python",
   "pygments_lexer": "ipython3",
   "version": "3.6.7"
  }
 },
 "nbformat": 4,
 "nbformat_minor": 2
}
